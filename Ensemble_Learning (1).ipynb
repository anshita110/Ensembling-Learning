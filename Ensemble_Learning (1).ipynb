{
  "cells": [
    {
      "cell_type": "code",
      "execution_count": null,
      "metadata": {
        "id": "cmkKYuZNCpYn"
      },
      "outputs": [],
      "source": []
    },
    {
      "cell_type": "markdown",
      "metadata": {
        "id": "731y4xZDCtYa"
      },
      "source": [
        "## Theoritical\n",
        "\n",
        "1. Can we use Bagging for regression problems?\n",
        "\n",
        "Yes, Bagging (Bootstrap Aggregating) can be used for regression problems. A common example is the Bagging Regressor in scikit-learn, which uses multiple base regressors (e.g., Decision Trees) trained on different bootstrapped samples of the data and averages their predictions to improve accuracy and reduce variance.\n",
        "\n",
        "2. What is the difference between multiple model training and single model training?\n",
        "\n",
        "Single Model Training: A single algorithm is trained on the entire dataset, which may lead to high bias or variance.\n",
        "\n",
        "Multiple Model Training (Ensemble Learning): Multiple models are trained on different data subsets or variations, and their outputs are combined, leading to better generalization.\n",
        "\n",
        "3. Explain the concept of feature randomness in Random Forest.\n",
        "\n",
        "Random Forest introduces randomness by selecting a random subset of features at each split, rather than using all available features. This reduces correlation between trees and improves generalization.\n",
        "\n",
        "4. What is OOB (Out-of-Bag) Score?\n",
        "The OOB Score is an internal cross-validation method in Bagging.\n",
        "\n",
        "Since each base model is trained on a bootstrap sample (randomly selected with replacement), some data points are left out. These out-of-bag samples are used to estimate the model’s performance without requiring additional validation data.\n",
        "\n",
        "5. How can you measure the importance of features in a Random Forest model?\n",
        "\n",
        "Feature importance in Random Forest can be measured using:\n",
        "\n",
        "Gini Importance (Mean Decrease in Impurity - MDI)\n",
        "\n",
        "Permutation Importance, which shuffles feature values and observes performance changes.\n",
        "\n",
        "6. Explain the working principle of a Bagging Classifier.\n",
        "\n",
        "Draw bootstrap samples (random sampling with replacement).\n",
        "\n",
        "Train multiple classifiers (e.g., Decision Trees).\n",
        "\n",
        "Aggregate predictions using majority voting (for classification) or averaging (for regression).\n",
        "\n",
        "\n",
        "7. How do you evaluate a Bagging Classifier’s performance?\n",
        "\n",
        "Accuracy, Precision, Recall, F1-Score (for classification)\n",
        "\n",
        "Mean Squared Error (MSE) or R² Score (for regression)\n",
        "\n",
        "OOB Score, which provides an estimate without needing a separate validation set.\n",
        "\n",
        "8. How does a Bagging Regressor work?\n",
        "\n",
        "Similar to the Bagging Classifier, but instead of majority voting, it averages the predictions from different regressors to reduce variance and improve stability.\n",
        "\n",
        "9. What is the main advantage of ensemble techniques?\n",
        "\n",
        "Higher accuracy than single models\n",
        "\n",
        "Reduced variance (e.g., Bagging)\n",
        "\n",
        "Reduced bias (e.g., Boosting)\n",
        "\n",
        "Better generalization to unseen data\n",
        "\n",
        "10. What is the main challenge of ensemble methods?\n",
        "\n",
        "Computational complexity (training multiple models)\n",
        "\n",
        "Interpretability (difficult to explain how multiple models contribute to the final decision)\n",
        "\n",
        "Risk of overfitting (especially with Boosting if not properly regularized)\n",
        "\n",
        "11. Explain the key idea behind ensemble techniques.\n",
        "\n",
        "Ensemble methods combine multiple weak learners (models) to create a stronger overall model that generalizes better than individual models.\n",
        "\n",
        "12. What is a Random Forest Classifier?\n",
        "\n",
        "A Random Forest Classifier is an ensemble of multiple Decision Trees, trained on random subsets of data and features, with the final prediction made via majority voting.\n",
        "\n",
        "13. What are the main types of ensemble techniques?\n",
        "\n",
        "Bagging (Bootstrap Aggregating)\n",
        "\n",
        "Boosting (e.g., AdaBoost, Gradient Boosting)\n",
        "\n",
        "Stacking (Layered models with a meta-learner)\n",
        "\n",
        "Voting/Averaging (Majority vote or mean prediction)\n",
        "\n",
        "14. What is ensemble learning in machine learning?\n",
        "\n",
        "Ensemble learning is a technique where multiple models (often of the same type) are trained and combined to improve performance compared to a single model.\n",
        "\n",
        "15. When should we avoid using ensemble methods?\n",
        "\n",
        "When computational resources are limited.\n",
        "\n",
        "When the dataset is small, and a single model can generalize well.\n",
        "\n",
        "When interpretability is a priority.\n",
        "\n",
        "16. How does Bagging help in reducing overfitting?\n",
        "\n",
        "Bagging reduces overfitting by:\n",
        "\n",
        "Training multiple models on different random samples of the data.\n",
        "\n",
        "Averaging their predictions, which smooths out noise in individual models.\n",
        "\n",
        "17. Why is Random Forest better than a single Decision Tree?\n",
        "\n",
        "Less prone to overfitting due to averaging multiple trees.\n",
        "\n",
        "More stable and accurate since different feature subsets are used.\n",
        "\n",
        "Handles missing data and noisy features better.\n",
        "\n",
        "18. What is the role of bootstrap sampling in Bagging?\n",
        "\n",
        "Bootstrap sampling allows each model in the ensemble to train on a slightly different dataset, leading to diverse predictions and improving generalization.\n",
        "\n",
        "19. What are some real-world applications of ensemble techniques?\n",
        "\n",
        "Fraud Detection (Bagging & Boosting)\n",
        "\n",
        "Medical Diagnosis (Random Forest in disease prediction)\n",
        "\n",
        "Stock Market Prediction (Stacking models)\n",
        "\n",
        "Image Recognition (Boosting in deep learning)\n",
        "\n",
        "20. What is the difference between Bagging and Boosting?\n",
        "\n",
        "Bagging\n",
        "\n",
        "Model Training: Independent models trained in parallel\n",
        "\n",
        "Focus: Reducing variance\n",
        "\n",
        "Overfitting:Less prone\n",
        "\n",
        "Example: Random Forest\n",
        "\n",
        "\n",
        "Boosting\n",
        "\n",
        " Model Training: Models trained sequentially, correcting previous errors\n",
        "\n",
        "Focus: Reducing bias\n",
        "\n",
        "Overfitting: More prone if overtrained\n",
        "\n",
        "Example: AdaBoost, Gradient Boosting"
      ]
    },
    {
      "cell_type": "markdown",
      "metadata": {
        "id": "II0nGnr1IyTs"
      },
      "source": [
        "PRACTICAL \n",
        "\n",
        "21. Train a Bagging Classifier using Decision Trees on a sample dataset and print model accuracy"
      ]
    },
    {
      "cell_type": "code",
      "execution_count": 5,
      "metadata": {
        "colab": {
          "base_uri": "https://localhost:8080/"
        },
        "id": "B4LLYFvFJCqc",
        "outputId": "a3806e52-60a0-4774-fc3a-456af6414119"
      },
      "outputs": [
        {
          "name": "stdout",
          "output_type": "stream",
          "text": [
            "Bagging Classifier Accuracy: 0.8850\n"
          ]
        }
      ],
      "source": [
        "from sklearn.ensemble import BaggingClassifier\n",
        "from sklearn.tree import DecisionTreeClassifier\n",
        "from sklearn.model_selection import train_test_split\n",
        "from sklearn.metrics import accuracy_score\n",
        "from sklearn.datasets import make_classification\n",
        "\n",
        "# Create a sample dataset\n",
        "X, y = make_classification(n_samples=1000, n_features=20, random_state=42)\n",
        "\n",
        "# Split into train and test sets\n",
        "X_train, X_test, y_train, y_test = train_test_split(X, y, test_size=0.2, random_state=42)\n",
        "\n",
        "# Train Bagging Classifier with Decision Tree\n",
        "bagging_clf = BaggingClassifier(estimator=DecisionTreeClassifier(), n_estimators=50, random_state=42)\n",
        "bagging_clf.fit(X_train, y_train)\n",
        "\n",
        "# Predict and evaluate\n",
        "y_pred = bagging_clf.predict(X_test)\n",
        "accuracy = accuracy_score(y_test, y_pred)\n",
        "\n",
        "print(f\"Bagging Classifier Accuracy: {accuracy:.4f}\")"
      ]
    },
    {
      "cell_type": "markdown",
      "metadata": {
        "id": "MmLjRk_bI6gv"
      },
      "source": [
        "22. Train a Bagging Regressor using Decision Trees and evaluate using Mean Squared Error (MSE)"
      ]
    },
    {
      "cell_type": "code",
      "execution_count": 6,
      "metadata": {
        "colab": {
          "base_uri": "https://localhost:8080/"
        },
        "id": "j_LWHB-uJQHT",
        "outputId": "62326ce7-bbcd-4877-9655-a8693340db76"
      },
      "outputs": [
        {
          "name": "stdout",
          "output_type": "stream",
          "text": [
            "Bagging Regressor MSE: 7109.3879\n"
          ]
        }
      ],
      "source": [
        "from sklearn.ensemble import BaggingRegressor\n",
        "from sklearn.tree import DecisionTreeRegressor\n",
        "from sklearn.metrics import mean_squared_error\n",
        "from sklearn.datasets import make_regression\n",
        "\n",
        "# Create a sample regression dataset\n",
        "X, y = make_regression(n_samples=1000, n_features=20, noise=0.1, random_state=42)\n",
        "\n",
        "# Split into train and test sets\n",
        "X_train, X_test, y_train, y_test = train_test_split(X, y, test_size=0.2, random_state=42)\n",
        "\n",
        "# Train Bagging Regressor with Decision Tree\n",
        "bagging_reg = BaggingRegressor(estimator=DecisionTreeRegressor(), n_estimators=50, random_state=42) # Changed 'base_estimator' to 'estimator'\n",
        "bagging_reg.fit(X_train, y_train)\n",
        "\n",
        "# Predict and evaluate\n",
        "y_pred = bagging_reg.predict(X_test)\n",
        "mse = mean_squared_error(y_test, y_pred)\n",
        "\n",
        "print(f\"Bagging Regressor MSE: {mse:.4f}\")"
      ]
    },
    {
      "cell_type": "markdown",
      "metadata": {
        "id": "sSvR_u7NJk7I"
      },
      "source": [
        "23. Train a Random Forest Classifier on the Breast Cancer dataset and print feature importance scores"
      ]
    },
    {
      "cell_type": "code",
      "execution_count": 7,
      "metadata": {
        "colab": {
          "base_uri": "https://localhost:8080/"
        },
        "id": "fn4E-FWYJKw4",
        "outputId": "cd08fcb2-6564-47ff-f9c4-22dd8a88ec87"
      },
      "outputs": [
        {
          "name": "stdout",
          "output_type": "stream",
          "text": [
            "Feature Importance Scores:\n",
            " worst area                 0.139357\n",
            "worst concave points       0.132225\n",
            "mean concave points        0.107046\n",
            "worst radius               0.082848\n",
            "worst perimeter            0.080850\n",
            "mean perimeter             0.067990\n",
            "mean concavity             0.066917\n",
            "mean area                  0.060462\n",
            "worst concavity            0.037339\n",
            "mean radius                0.034843\n",
            "area error                 0.029553\n",
            "worst compactness          0.019864\n",
            "worst texture              0.017485\n",
            "mean texture               0.015225\n",
            "radius error               0.014264\n",
            "worst smoothness           0.012232\n",
            "mean compactness           0.011597\n",
            "perimeter error            0.010085\n",
            "worst symmetry             0.008179\n",
            "mean smoothness            0.007958\n",
            "fractal dimension error    0.005942\n",
            "concavity error            0.005820\n",
            "compactness error          0.005612\n",
            "smoothness error           0.004722\n",
            "worst fractal dimension    0.004497\n",
            "concave points error       0.003760\n",
            "texture error              0.003744\n",
            "symmetry error             0.003546\n",
            "mean symmetry              0.003423\n",
            "mean fractal dimension     0.002615\n",
            "dtype: float64\n"
          ]
        }
      ],
      "source": [
        "from sklearn.ensemble import RandomForestClassifier\n",
        "from sklearn.datasets import load_breast_cancer\n",
        "import pandas as pd\n",
        "\n",
        "# Load dataset\n",
        "data = load_breast_cancer()\n",
        "X, y = data.data, data.target\n",
        "feature_names = data.feature_names\n",
        "\n",
        "# Train Random Forest Classifier\n",
        "rf_clf = RandomForestClassifier(n_estimators=100, random_state=42)\n",
        "rf_clf.fit(X, y)\n",
        "\n",
        "# Print feature importance\n",
        "feature_importance = pd.Series(rf_clf.feature_importances_, index=feature_names).sort_values(ascending=False)\n",
        "print(\"Feature Importance Scores:\\n\", feature_importance)\n"
      ]
    },
    {
      "cell_type": "markdown",
      "metadata": {
        "id": "RrELuUfsJr3g"
      },
      "source": [
        "24. Train a Random Forest Regressor and compare its performance with a single Decision Tree"
      ]
    },
    {
      "cell_type": "code",
      "execution_count": 8,
      "metadata": {
        "colab": {
          "base_uri": "https://localhost:8080/"
        },
        "id": "CtlkR-AWJp6V",
        "outputId": "5befda17-8b69-4a64-ca18-43de00644a73"
      },
      "outputs": [
        {
          "name": "stdout",
          "output_type": "stream",
          "text": [
            "Decision Tree Regressor MSE: 20519.2975\n",
            "Random Forest Regressor MSE: 7055.5077\n"
          ]
        }
      ],
      "source": [
        "from sklearn.ensemble import RandomForestRegressor\n",
        "from sklearn.tree import DecisionTreeRegressor\n",
        "\n",
        "# Train Decision Tree Regressor\n",
        "dt_reg = DecisionTreeRegressor(random_state=42)\n",
        "dt_reg.fit(X_train, y_train)\n",
        "dt_pred = dt_reg.predict(X_test)\n",
        "dt_mse = mean_squared_error(y_test, dt_pred)\n",
        "\n",
        "# Train Random Forest Regressor\n",
        "rf_reg = RandomForestRegressor(n_estimators=100, random_state=42)\n",
        "rf_reg.fit(X_train, y_train)\n",
        "rf_pred = rf_reg.predict(X_test)\n",
        "rf_mse = mean_squared_error(y_test, rf_pred)\n",
        "\n",
        "print(f\"Decision Tree Regressor MSE: {dt_mse:.4f}\")\n",
        "print(f\"Random Forest Regressor MSE: {rf_mse:.4f}\")\n"
      ]
    },
    {
      "cell_type": "markdown",
      "metadata": {
        "id": "9K1lFN8sJyNz"
      },
      "source": [
        "25. Compute the Out-of-Bag (OOB) Score for a Random Forest Classifier"
      ]
    },
    {
      "cell_type": "code",
      "execution_count": 9,
      "metadata": {
        "colab": {
          "base_uri": "https://localhost:8080/"
        },
        "id": "kFthEgPgJvqD",
        "outputId": "21580d9c-6dfb-47ed-e0b2-483056ea4e6b"
      },
      "outputs": [
        {
          "name": "stdout",
          "output_type": "stream",
          "text": [
            "OOB Score: 0.9613\n"
          ]
        }
      ],
      "source": [
        "# Train Random Forest Classifier with OOB Score\n",
        "rf_clf_oob = RandomForestClassifier(n_estimators=100, oob_score=True, random_state=42)\n",
        "rf_clf_oob.fit(X, y)\n",
        "\n",
        "# Print OOB Score\n",
        "print(f\"OOB Score: {rf_clf_oob.oob_score_:.4f}\")\n"
      ]
    },
    {
      "cell_type": "markdown",
      "metadata": {
        "id": "yg6vIcLIJ85r"
      },
      "source": [
        " 26. Train a Bagging Classifier using SVM as a base estimator and print accuracy"
      ]
    },
    {
      "cell_type": "code",
      "execution_count": 11,
      "metadata": {
        "colab": {
          "base_uri": "https://localhost:8080/"
        },
        "id": "lmjIqUJYJ10j",
        "outputId": "d0744b05-b3d7-4b57-b434-0e877b116880"
      },
      "outputs": [
        {
          "name": "stdout",
          "output_type": "stream",
          "text": [
            "Bagging Classifier (SVM) Accuracy: 0.8450\n"
          ]
        }
      ],
      "source": [
        "from sklearn.ensemble import BaggingClassifier\n",
        "from sklearn.svm import SVC\n",
        "from sklearn.model_selection import train_test_split\n",
        "from sklearn.metrics import accuracy_score\n",
        "from sklearn.datasets import make_classification\n",
        "\n",
        "# Create a sample dataset\n",
        "X, y = make_classification(n_samples=1000, n_features=20, random_state=42)\n",
        "\n",
        "# Split into train and test sets\n",
        "X_train, X_test, y_train, y_test = train_test_split(X, y, test_size=0.2, random_state=42)\n",
        "\n",
        "# Train Bagging Classifier with SVM\n",
        "bagging_svm = BaggingClassifier(estimator=SVC(probability=True), n_estimators=50, random_state=42)\n",
        "bagging_svm.fit(X_train, y_train)\n",
        "\n",
        "# Predict and evaluate\n",
        "y_pred = bagging_svm.predict(X_test)\n",
        "accuracy = accuracy_score(y_test, y_pred)\n",
        "\n",
        "print(f\"Bagging Classifier (SVM) Accuracy: {accuracy:.4f}\")\n"
      ]
    },
    {
      "cell_type": "markdown",
      "metadata": {
        "id": "tN_q0AF3KOkI"
      },
      "source": [
        "27. Train a Random Forest Classifier with different numbers of trees and compare accuracy"
      ]
    },
    {
      "cell_type": "code",
      "execution_count": 12,
      "metadata": {
        "colab": {
          "base_uri": "https://localhost:8080/"
        },
        "id": "1cdsy5l6KHCn",
        "outputId": "bb64366c-1ee4-43b1-c215-94ad6df92376"
      },
      "outputs": [
        {
          "name": "stdout",
          "output_type": "stream",
          "text": [
            "Random Forest (n_estimators=10) Accuracy: 0.8550\n",
            "Random Forest (n_estimators=50) Accuracy: 0.8800\n",
            "Random Forest (n_estimators=100) Accuracy: 0.9000\n",
            "Random Forest (n_estimators=200) Accuracy: 0.8900\n"
          ]
        }
      ],
      "source": [
        "from sklearn.ensemble import RandomForestClassifier\n",
        "\n",
        "# Test different numbers of trees\n",
        "n_estimators_list = [10, 50, 100, 200]\n",
        "accuracies = {}\n",
        "\n",
        "for n in n_estimators_list:\n",
        "    rf_clf = RandomForestClassifier(n_estimators=n, random_state=42)\n",
        "    rf_clf.fit(X_train, y_train)\n",
        "    y_pred = rf_clf.predict(X_test)\n",
        "    acc = accuracy_score(y_test, y_pred)\n",
        "    accuracies[n] = acc\n",
        "\n",
        "# Print accuracy comparison\n",
        "for n, acc in accuracies.items():\n",
        "    print(f\"Random Forest (n_estimators={n}) Accuracy: {acc:.4f}\")\n"
      ]
    },
    {
      "cell_type": "markdown",
      "metadata": {
        "id": "7QxrprhQKST-"
      },
      "source": [
        " 28. Train a Bagging Classifier using Logistic Regression as a base estimator and print AUC score"
      ]
    },
    {
      "cell_type": "code",
      "execution_count": 14,
      "metadata": {
        "colab": {
          "base_uri": "https://localhost:8080/"
        },
        "id": "f6QErf0BKRDA",
        "outputId": "cc8f3506-a11f-4b62-c27f-576eefc21afa"
      },
      "outputs": [
        {
          "name": "stdout",
          "output_type": "stream",
          "text": [
            "Bagging Classifier (Logistic Regression) AUC Score: 0.9219\n"
          ]
        }
      ],
      "source": [
        "from sklearn.linear_model import LogisticRegression\n",
        "from sklearn.metrics import roc_auc_score\n",
        "\n",
        "# Train Bagging Classifier with Logistic Regression\n",
        "bagging_lr = BaggingClassifier(estimator=LogisticRegression(), n_estimators=50, random_state=42)\n",
        "bagging_lr.fit(X_train, y_train)\n",
        "\n",
        "# Predict probabilities and evaluate AUC score\n",
        "y_prob = bagging_lr.predict_proba(X_test)[:, 1]\n",
        "auc_score = roc_auc_score(y_test, y_prob)\n",
        "\n",
        "print(f\"Bagging Classifier (Logistic Regression) AUC Score: {auc_score:.4f}\")\n"
      ]
    },
    {
      "cell_type": "markdown",
      "metadata": {
        "id": "Cra9hlQiKbmY"
      },
      "source": [
        "29. Train a Random Forest Regressor and analyze feature importance scores"
      ]
    },
    {
      "cell_type": "code",
      "execution_count": 15,
      "metadata": {
        "colab": {
          "base_uri": "https://localhost:8080/"
        },
        "id": "dSFY_UfWKXZ9",
        "outputId": "440f8211-7ee7-41af-e532-18293a0a816f"
      },
      "outputs": [
        {
          "name": "stdout",
          "output_type": "stream",
          "text": [
            "Feature Importance Scores:\n",
            " 5     0.622626\n",
            "14    0.120812\n",
            "11    0.023921\n",
            "18    0.022712\n",
            "2     0.017346\n",
            "12    0.016747\n",
            "6     0.015655\n",
            "1     0.015323\n",
            "16    0.014729\n",
            "15    0.014343\n",
            "7     0.014086\n",
            "17    0.013466\n",
            "9     0.013125\n",
            "19    0.012616\n",
            "8     0.012249\n",
            "3     0.011715\n",
            "4     0.010561\n",
            "13    0.010367\n",
            "10    0.008883\n",
            "0     0.008718\n",
            "dtype: float64\n"
          ]
        }
      ],
      "source": [
        "from sklearn.ensemble import RandomForestRegressor\n",
        "import pandas as pd\n",
        "\n",
        "# Train Random Forest Regressor\n",
        "rf_reg = RandomForestRegressor(n_estimators=100, random_state=42)\n",
        "rf_reg.fit(X_train, y_train)\n",
        "\n",
        "# Print feature importance\n",
        "feature_importance = pd.Series(rf_reg.feature_importances_).sort_values(ascending=False)\n",
        "print(\"Feature Importance Scores:\\n\", feature_importance)\n"
      ]
    },
    {
      "cell_type": "markdown",
      "metadata": {
        "id": "KdNbGCVrKg4e"
      },
      "source": [
        "30. Train an ensemble model using both Bagging and Random Forest and compare accuracy"
      ]
    },
    {
      "cell_type": "code",
      "execution_count": 17,
      "metadata": {
        "colab": {
          "base_uri": "https://localhost:8080/"
        },
        "id": "p_VTujeFKdtN",
        "outputId": "522711a6-bc6e-437f-bdc9-e1b55a53fbd6"
      },
      "outputs": [
        {
          "name": "stdout",
          "output_type": "stream",
          "text": [
            "Bagging Accuracy: 0.8850\n",
            "Random Forest Accuracy: 0.9000\n",
            "Ensemble Model Accuracy: 0.8950\n"
          ]
        }
      ],
      "source": [
        "from sklearn.ensemble import VotingClassifier\n",
        "\n",
        "# Train Bagging Classifier\n",
        "bagging_clf = BaggingClassifier(estimator=DecisionTreeClassifier(), n_estimators=50, random_state=42)\n",
        "bagging_clf.fit(X_train, y_train)\n",
        "bagging_acc = accuracy_score(y_test, bagging_clf.predict(X_test))\n",
        "\n",
        "# Train Random Forest Classifier\n",
        "rf_clf = RandomForestClassifier(n_estimators=100, random_state=42)\n",
        "rf_clf.fit(X_train, y_train)\n",
        "rf_acc = accuracy_score(y_test, rf_clf.predict(X_test))\n",
        "\n",
        "# Create Voting Classifier (Ensemble of Bagging and Random Forest)\n",
        "ensemble_clf = VotingClassifier(estimators=[\n",
        "    ('bagging', bagging_clf),\n",
        "    ('random_forest', rf_clf)\n",
        "], voting='hard')\n",
        "\n",
        "ensemble_clf.fit(X_train, y_train)\n",
        "ensemble_acc = accuracy_score(y_test, ensemble_clf.predict(X_test))\n",
        "\n",
        "print(f\"Bagging Accuracy: {bagging_acc:.4f}\")\n",
        "print(f\"Random Forest Accuracy: {rf_acc:.4f}\")\n",
        "print(f\"Ensemble Model Accuracy: {ensemble_acc:.4f}\")\n"
      ]
    },
    {
      "cell_type": "markdown",
      "metadata": {
        "id": "mKgSLTE8KrO_"
      },
      "source": [
        "31. Train a Random Forest Classifier and tune hyperparameters using GridSearchCV"
      ]
    },
    {
      "cell_type": "code",
      "execution_count": 18,
      "metadata": {
        "colab": {
          "base_uri": "https://localhost:8080/"
        },
        "id": "phy8MR9IKkCn",
        "outputId": "1b55716d-eca6-4fc1-c93e-fb6bf70f0c7c"
      },
      "outputs": [
        {
          "name": "stdout",
          "output_type": "stream",
          "text": [
            "Best Parameters: {'max_depth': None, 'min_samples_split': 5, 'n_estimators': 50}\n",
            "Best Accuracy: 0.89375\n"
          ]
        }
      ],
      "source": [
        "from sklearn.ensemble import RandomForestClassifier\n",
        "from sklearn.model_selection import GridSearchCV\n",
        "\n",
        "# Define parameter grid\n",
        "param_grid = {\n",
        "    'n_estimators': [50, 100, 200],\n",
        "    'max_depth': [None, 10, 20],\n",
        "    'min_samples_split': [2, 5, 10]\n",
        "}\n",
        "\n",
        "# Initialize Random Forest\n",
        "rf_clf = RandomForestClassifier(random_state=42)\n",
        "\n",
        "# Perform Grid Search\n",
        "grid_search = GridSearchCV(rf_clf, param_grid, cv=5, scoring='accuracy', n_jobs=-1)\n",
        "grid_search.fit(X_train, y_train)\n",
        "\n",
        "# Best parameters and accuracy\n",
        "print(\"Best Parameters:\", grid_search.best_params_)\n",
        "print(\"Best Accuracy:\", grid_search.best_score_)\n"
      ]
    },
    {
      "cell_type": "markdown",
      "metadata": {
        "id": "RsKPxnEjK0IS"
      },
      "source": [
        "32. Train a Bagging Regressor with different numbers of base estimators and compare performance"
      ]
    },
    {
      "cell_type": "code",
      "execution_count": 19,
      "metadata": {
        "colab": {
          "base_uri": "https://localhost:8080/"
        },
        "id": "whNmAWrtKvy2",
        "outputId": "45704055-bb76-4b38-e4c6-c9a685721f75"
      },
      "outputs": [
        {
          "name": "stdout",
          "output_type": "stream",
          "text": [
            "Bagging Regressor (n_estimators=10) MSE: 0.0974\n",
            "Bagging Regressor (n_estimators=50) MSE: 0.0893\n",
            "Bagging Regressor (n_estimators=100) MSE: 0.0862\n"
          ]
        }
      ],
      "source": [
        "from sklearn.ensemble import BaggingRegressor\n",
        "from sklearn.metrics import mean_squared_error\n",
        "\n",
        "# Test different numbers of base estimators\n",
        "n_estimators_list = [10, 50, 100]\n",
        "mse_scores = {}\n",
        "\n",
        "for n in n_estimators_list:\n",
        "    bagging_reg = BaggingRegressor(n_estimators=n, random_state=42)\n",
        "    bagging_reg.fit(X_train, y_train)\n",
        "    y_pred = bagging_reg.predict(X_test)\n",
        "    mse = mean_squared_error(y_test, y_pred)\n",
        "    mse_scores[n] = mse\n",
        "\n",
        "# Print MSE comparison\n",
        "for n, mse in mse_scores.items():\n",
        "    print(f\"Bagging Regressor (n_estimators={n}) MSE: {mse:.4f}\")\n"
      ]
    },
    {
      "cell_type": "markdown",
      "metadata": {
        "id": "0HwROjZvLJLX"
      },
      "source": [
        "33. Train a Random Forest Classifier and analyze misclassified samples"
      ]
    },
    {
      "cell_type": "code",
      "execution_count": 20,
      "metadata": {
        "colab": {
          "base_uri": "https://localhost:8080/"
        },
        "id": "efcae8jqLEWG",
        "outputId": "2cc040de-4e04-4fb0-f3c2-3889eeec8b15"
      },
      "outputs": [
        {
          "name": "stdout",
          "output_type": "stream",
          "text": [
            "Number of Misclassified Samples: 20\n",
            "Misclassified Sample Indices: [  2   8  19  27  30  43  45  57  59  94  99 107 112 127 128 159 163 171\n",
            " 173 184]\n"
          ]
        }
      ],
      "source": [
        "import numpy as np\n",
        "\n",
        "# Train Random Forest Classifier\n",
        "rf_clf = RandomForestClassifier(n_estimators=100, random_state=42)\n",
        "rf_clf.fit(X_train, y_train)\n",
        "\n",
        "# Predict\n",
        "y_pred = rf_clf.predict(X_test)\n",
        "\n",
        "# Find misclassified samples\n",
        "misclassified = np.where(y_pred != y_test)[0]\n",
        "\n",
        "print(f\"Number of Misclassified Samples: {len(misclassified)}\")\n",
        "print(\"Misclassified Sample Indices:\", misclassified)\n"
      ]
    },
    {
      "cell_type": "markdown",
      "metadata": {
        "id": "PvuE2Lb4LQgf"
      },
      "source": [
        "34. Train a Bagging Classifier and compare its performance with a single Decision Tree Classifier"
      ]
    },
    {
      "cell_type": "code",
      "execution_count": 21,
      "metadata": {
        "colab": {
          "base_uri": "https://localhost:8080/"
        },
        "id": "OWyMCYvvLM06",
        "outputId": "abc70814-6bce-4068-ed5e-a7dd8afab576"
      },
      "outputs": [
        {
          "name": "stdout",
          "output_type": "stream",
          "text": [
            "Decision Tree Accuracy: 0.8750\n",
            "Bagging Classifier Accuracy: 0.8850\n"
          ]
        }
      ],
      "source": [
        "from sklearn.tree import DecisionTreeClassifier\n",
        "\n",
        "# Train Decision Tree Classifier\n",
        "dt_clf = DecisionTreeClassifier(random_state=42)\n",
        "dt_clf.fit(X_train, y_train)\n",
        "dt_acc = accuracy_score(y_test, dt_clf.predict(X_test))\n",
        "\n",
        "# Train Bagging Classifier with Decision Tree\n",
        "bagging_clf = BaggingClassifier(estimator=DecisionTreeClassifier(), n_estimators=50, random_state=42)\n",
        "bagging_clf.fit(X_train, y_train)\n",
        "bagging_acc = accuracy_score(y_test, bagging_clf.predict(X_test))\n",
        "\n",
        "print(f\"Decision Tree Accuracy: {dt_acc:.4f}\")\n",
        "print(f\"Bagging Classifier Accuracy: {bagging_acc:.4f}\")\n"
      ]
    },
    {
      "cell_type": "markdown",
      "metadata": {
        "id": "JJEfOVRiLXJ7"
      },
      "source": [
        "35. Train a Random Forest Classifier and visualize the confusion matrix"
      ]
    },
    {
      "cell_type": "code",
      "execution_count": 22,
      "metadata": {
        "colab": {
          "base_uri": "https://localhost:8080/",
          "height": 410
        },
        "id": "3qfBKEpOLUwE",
        "outputId": "a59651c0-18d4-4df1-b802-c5609bf941ac"
      },
      "outputs": [
        {
          "data": {
            "image/png": "[encoded data removed]",
            "text/plain": [
              "<Figure size 600x400 with 2 Axes>"
            ]
          },
          "metadata": {},
          "output_type": "display_data"
        }
      ],
      "source": [
        "import matplotlib.pyplot as plt\n",
        "from sklearn.metrics import confusion_matrix\n",
        "import seaborn as sns\n",
        "\n",
        "# Train Random Forest Classifier\n",
        "rf_clf = RandomForestClassifier(n_estimators=100, random_state=42)\n",
        "rf_clf.fit(X_train, y_train)\n",
        "\n",
        "# Predict\n",
        "y_pred = rf_clf.predict(X_test)\n",
        "\n",
        "# Compute confusion matrix\n",
        "cm = confusion_matrix(y_test, y_pred)\n",
        "\n",
        "# Plot the confusion matrix\n",
        "plt.figure(figsize=(6, 4))\n",
        "sns.heatmap(cm, annot=True, fmt=\"d\", cmap=\"Blues\")\n",
        "plt.xlabel(\"Predicted\")\n",
        "plt.ylabel(\"Actual\")\n",
        "plt.title(\"Confusion Matrix - Random Forest\")\n",
        "plt.show()\n"
      ]
    },
    {
      "cell_type": "markdown",
      "metadata": {
        "id": "sgz6m3BJLdBm"
      },
      "source": [
        "36. Train a Stacking Classifier using Decision Trees, SVM, and Logistic Regression, and compare accuracy"
      ]
    },
    {
      "cell_type": "code",
      "execution_count": 23,
      "metadata": {
        "colab": {
          "base_uri": "https://localhost:8080/"
        },
        "id": "AKycBT5SLaUf",
        "outputId": "5a67f5f1-ad45-45a7-aaa4-45129fd3c205"
      },
      "outputs": [
        {
          "name": "stdout",
          "output_type": "stream",
          "text": [
            "Stacking Classifier Accuracy: 0.8650\n"
          ]
        }
      ],
      "source": [
        "from sklearn.ensemble import StackingClassifier\n",
        "from sklearn.tree import DecisionTreeClassifier\n",
        "from sklearn.svm import SVC\n",
        "from sklearn.linear_model import LogisticRegression\n",
        "from sklearn.metrics import accuracy_score\n",
        "\n",
        "# Define base estimators\n",
        "base_estimators = [\n",
        "    ('dt', DecisionTreeClassifier(random_state=42)),\n",
        "    ('svm', SVC(probability=True, random_state=42)),\n",
        "    ('lr', LogisticRegression(random_state=42))\n",
        "]\n",
        "\n",
        "# Define stacking classifier\n",
        "stacking_clf = StackingClassifier(estimators=base_estimators, final_estimator=LogisticRegression())\n",
        "\n",
        "# Train the model\n",
        "stacking_clf.fit(X_train, y_train)\n",
        "\n",
        "# Predict and evaluate accuracy\n",
        "y_pred = stacking_clf.predict(X_test)\n",
        "stacking_acc = accuracy_score(y_test, y_pred)\n",
        "\n",
        "print(f\"Stacking Classifier Accuracy: {stacking_acc:.4f}\")\n"
      ]
    },
    {
      "cell_type": "markdown",
      "metadata": {
        "id": "G7rvMEqDLlar"
      },
      "source": [
        "37. Train a Random Forest Classifier and print the top 5 most important features"
      ]
    },
    {
      "cell_type": "code",
      "execution_count": 24,
      "metadata": {
        "colab": {
          "base_uri": "https://localhost:8080/"
        },
        "id": "2DZ-4A-gLhAy",
        "outputId": "2333bc30-5fe6-44ab-b304-d7734119d2a6"
      },
      "outputs": [
        {
          "name": "stdout",
          "output_type": "stream",
          "text": [
            "Top 5 Important Features: [ 5 18  1 14 11]\n"
          ]
        }
      ],
      "source": [
        "import numpy as np\n",
        "\n",
        "# Train Random Forest Classifier\n",
        "rf_clf = RandomForestClassifier(n_estimators=100, random_state=42)\n",
        "rf_clf.fit(X_train, y_train)\n",
        "\n",
        "# Get feature importance scores\n",
        "feature_importances = rf_clf.feature_importances_\n",
        "\n",
        "# Get top 5 features\n",
        "top_features = np.argsort(feature_importances)[-5:][::-1]\n",
        "print(\"Top 5 Important Features:\", top_features)\n"
      ]
    },
    {
      "cell_type": "markdown",
      "metadata": {
        "id": "iOwGEF-BLt_L"
      },
      "source": [
        "38. Train a Bagging Classifier and evaluate performance using Precision, Recall, and F1-score"
      ]
    },
    {
      "cell_type": "code",
      "execution_count": 26,
      "metadata": {
        "colab": {
          "base_uri": "https://localhost:8080/"
        },
        "id": "Yy7AMqbWLqyZ",
        "outputId": "7126ba63-d485-49d2-ef29-c5c8ff53b4c0"
      },
      "outputs": [
        {
          "name": "stdout",
          "output_type": "stream",
          "text": [
            "Precision: 0.8926\n",
            "Recall: 0.8850\n",
            "F1-score: 0.8850\n"
          ]
        }
      ],
      "source": [
        "from sklearn.ensemble import BaggingClassifier\n",
        "from sklearn.metrics import precision_score, recall_score, f1_score\n",
        "\n",
        "# Train Bagging Classifier\n",
        "bagging_clf = BaggingClassifier(estimator=DecisionTreeClassifier(), n_estimators=50, random_state=42)\n",
        "bagging_clf.fit(X_train, y_train)\n",
        "\n",
        "# Predict\n",
        "y_pred = bagging_clf.predict(X_test)\n",
        "\n",
        "# Calculate metrics\n",
        "precision = precision_score(y_test, y_pred, average='weighted')\n",
        "recall = recall_score(y_test, y_pred, average='weighted')\n",
        "f1 = f1_score(y_test, y_pred, average='weighted')\n",
        "\n",
        "print(f\"Precision: {precision:.4f}\")\n",
        "print(f\"Recall: {recall:.4f}\")\n",
        "print(f\"F1-score: {f1:.4f}\")\n"
      ]
    },
    {
      "cell_type": "markdown",
      "metadata": {
        "id": "9ZQSGa7GL-ID"
      },
      "source": [
        "39. Train a Random Forest Classifier and analyze the effect of max_depth on accuracy"
      ]
    },
    {
      "cell_type": "code",
      "execution_count": 27,
      "metadata": {
        "colab": {
          "base_uri": "https://localhost:8080/",
          "height": 410
        },
        "id": "6S6i6TpdLwXQ",
        "outputId": "f53505cf-3eeb-4497-e59c-8429fad7c51c"
      },
      "outputs": [
        {
          "data": {
            "image/png": "[encoded data removed]",
            "text/plain": [
              "<Figure size 600x400 with 1 Axes>"
            ]
          },
          "metadata": {},
          "output_type": "display_data"
        }
      ],
      "source": [
        "import matplotlib.pyplot as plt\n",
        "from sklearn.metrics import accuracy_score\n",
        "\n",
        "max_depths = [2, 5, 10, 20, None]\n",
        "accuracy_scores = []\n",
        "\n",
        "for depth in max_depths:\n",
        "    rf_clf = RandomForestClassifier(n_estimators=100, max_depth=depth, random_state=42)\n",
        "    rf_clf.fit(X_train, y_train)\n",
        "    y_pred = rf_clf.predict(X_test)\n",
        "    acc = accuracy_score(y_test, y_pred)\n",
        "    accuracy_scores.append(acc)\n",
        "\n",
        "# Plot results\n",
        "plt.figure(figsize=(6, 4))\n",
        "plt.plot(max_depths[:-1] + [\"None\"], accuracy_scores, marker='o', linestyle='-')\n",
        "plt.xlabel(\"Max Depth\")\n",
        "plt.ylabel(\"Accuracy\")\n",
        "plt.title(\"Effect of max_depth on Accuracy\")\n",
        "plt.show()\n"
      ]
    },
    {
      "cell_type": "markdown",
      "metadata": {
        "id": "9vbRLC03MEeZ"
      },
      "source": [
        "40. Train a Bagging Regressor using different base estimators (DecisionTree and KNeighbors) and compare performance"
      ]
    },
    {
      "cell_type": "code",
      "execution_count": 28,
      "metadata": {
        "colab": {
          "base_uri": "https://localhost:8080/"
        },
        "id": "iUM0JKq6MCMn",
        "outputId": "79d6ee28-4f9e-4b85-eaa3-17a390ca1295"
      },
      "outputs": [
        {
          "name": "stdout",
          "output_type": "stream",
          "text": [
            "Bagging Regressor (DecisionTree) MSE: 0.0893\n",
            "Bagging Regressor (KNeighbors) MSE: 0.1362\n"
          ]
        }
      ],
      "source": [
        "from sklearn.ensemble import BaggingRegressor\n",
        "from sklearn.neighbors import KNeighborsRegressor\n",
        "from sklearn.metrics import mean_squared_error\n",
        "\n",
        "# Train Bagging with DecisionTree\n",
        "bagging_dt = BaggingRegressor(estimator=DecisionTreeRegressor(), n_estimators=50, random_state=42)\n",
        "bagging_dt.fit(X_train, y_train)\n",
        "y_pred_dt = bagging_dt.predict(X_test)\n",
        "mse_dt = mean_squared_error(y_test, y_pred_dt)\n",
        "\n",
        "# Train Bagging with KNeighbors\n",
        "bagging_knn = BaggingRegressor(estimator=KNeighborsRegressor(), n_estimators=50, random_state=42)\n",
        "bagging_knn.fit(X_train, y_train)\n",
        "y_pred_knn = bagging_knn.predict(X_test)\n",
        "mse_knn = mean_squared_error(y_test, y_pred_knn)\n",
        "\n",
        "print(f\"Bagging Regressor (DecisionTree) MSE: {mse_dt:.4f}\")\n",
        "print(f\"Bagging Regressor (KNeighbors) MSE: {mse_knn:.4f}\")\n"
      ]
    },
    {
      "cell_type": "markdown",
      "metadata": {
        "id": "CJGyYO3gMOfY"
      },
      "source": [
        "41. Train a Random Forest Classifier and evaluate its performance using ROC-AUC Score"
      ]
    },
    {
      "cell_type": "code",
      "execution_count": 29,
      "metadata": {
        "colab": {
          "base_uri": "https://localhost:8080/"
        },
        "id": "VLkUBFyMMJpD",
        "outputId": "14d344b4-11e4-4a6d-ddca-2c40b0690cc9"
      },
      "outputs": [
        {
          "name": "stdout",
          "output_type": "stream",
          "text": [
            "Random Forest ROC-AUC Score: 0.9379\n"
          ]
        }
      ],
      "source": [
        "from sklearn.ensemble import RandomForestClassifier\n",
        "from sklearn.metrics import roc_auc_score\n",
        "\n",
        "# Train Random Forest Classifier\n",
        "rf_clf = RandomForestClassifier(n_estimators=100, random_state=42)\n",
        "rf_clf.fit(X_train, y_train)\n",
        "\n",
        "# Predict probabilities for ROC-AUC score\n",
        "y_pred_proba = rf_clf.predict_proba(X_test)[:, 1]\n",
        "\n",
        "# Compute ROC-AUC score\n",
        "roc_auc = roc_auc_score(y_test, y_pred_proba)\n",
        "print(f\"Random Forest ROC-AUC Score: {roc_auc:.4f}\")\n"
      ]
    },
    {
      "cell_type": "markdown",
      "metadata": {
        "id": "awE9YRRUMVh2"
      },
      "source": [
        "42. Train a Bagging Classifier and evaluate its performance using cross-validation"
      ]
    },
    {
      "cell_type": "code",
      "execution_count": 30,
      "metadata": {
        "colab": {
          "base_uri": "https://localhost:8080/"
        },
        "id": "fo3r2nlGMSRy",
        "outputId": "31eac88c-7c49-47a5-c63b-f1f8a54c05fc"
      },
      "outputs": [
        {
          "name": "stdout",
          "output_type": "stream",
          "text": [
            "Bagging Classifier Cross-Validation Accuracy: 0.9100 ± 0.0187\n"
          ]
        }
      ],
      "source": [
        "from sklearn.ensemble import BaggingClassifier\n",
        "from sklearn.model_selection import cross_val_score\n",
        "\n",
        "# Define Bagging Classifier\n",
        "bagging_clf = BaggingClassifier(estimator=DecisionTreeClassifier(), n_estimators=50, random_state=42)\n",
        "\n",
        "# Perform cross-validation\n",
        "cv_scores = cross_val_score(bagging_clf, X, y, cv=5, scoring='accuracy')\n",
        "\n",
        "print(f\"Bagging Classifier Cross-Validation Accuracy: {cv_scores.mean():.4f} ± {cv_scores.std():.4f}\")\n"
      ]
    },
    {
      "cell_type": "markdown",
      "metadata": {
        "id": "B6DTSUQ5McjE"
      },
      "source": [
        "43. Train a Random Forest Classifier and plot the Precision-Recall Curve"
      ]
    },
    {
      "cell_type": "code",
      "execution_count": 31,
      "metadata": {
        "colab": {
          "base_uri": "https://localhost:8080/",
          "height": 410
        },
        "id": "D0zTNP-cMaLC",
        "outputId": "0da4888d-4182-4b78-b85c-a1627dbc4c20"
      },
      "outputs": [
        {
          "data": {
            "image/png": "[encoded data removed]",
            "text/plain": [
              "<Figure size 600x400 with 1 Axes>"
            ]
          },
          "metadata": {},
          "output_type": "display_data"
        }
      ],
      "source": [
        "from sklearn.metrics import precision_recall_curve\n",
        "import matplotlib.pyplot as plt\n",
        "\n",
        "# Train Random Forest Classifier\n",
        "rf_clf = RandomForestClassifier(n_estimators=100, random_state=42)\n",
        "rf_clf.fit(X_train, y_train)\n",
        "\n",
        "# Predict probabilities\n",
        "y_pred_proba = rf_clf.predict_proba(X_test)[:, 1]\n",
        "\n",
        "# Compute Precision-Recall curve\n",
        "precision, recall, _ = precision_recall_curve(y_test, y_pred_proba)\n",
        "\n",
        "# Plot Precision-Recall curve\n",
        "plt.figure(figsize=(6, 4))\n",
        "plt.plot(recall, precision, marker='.', label='Random Forest')\n",
        "plt.xlabel('Recall')\n",
        "plt.ylabel('Precision')\n",
        "plt.title('Precision-Recall Curve')\n",
        "plt.legend()\n",
        "plt.show()\n"
      ]
    },
    {
      "cell_type": "markdown",
      "metadata": {
        "id": "ABS0EyrwMi06"
      },
      "source": [
        "44. Train a Stacking Classifier with Random Forest and Logistic Regression and compare accuracy"
      ]
    },
    {
      "cell_type": "code",
      "execution_count": 32,
      "metadata": {
        "colab": {
          "base_uri": "https://localhost:8080/"
        },
        "id": "-GotT7nxMgrS",
        "outputId": "f7ca5dc5-f96d-4829-992a-20acd8959da0"
      },
      "outputs": [
        {
          "name": "stdout",
          "output_type": "stream",
          "text": [
            "Stacking Classifier Accuracy: 0.9000\n"
          ]
        }
      ],
      "source": [
        "from sklearn.ensemble import StackingClassifier\n",
        "from sklearn.linear_model import LogisticRegression\n",
        "\n",
        "# Define base estimators\n",
        "base_estimators = [\n",
        "    ('rf', RandomForestClassifier(n_estimators=100, random_state=42))\n",
        "]\n",
        "\n",
        "# Define Stacking Classifier\n",
        "stacking_clf = StackingClassifier(estimators=base_estimators, final_estimator=LogisticRegression())\n",
        "\n",
        "# Train the model\n",
        "stacking_clf.fit(X_train, y_train)\n",
        "\n",
        "# Predict and evaluate accuracy\n",
        "y_pred = stacking_clf.predict(X_test)\n",
        "stacking_acc = accuracy_score(y_test, y_pred)\n",
        "\n",
        "print(f\"Stacking Classifier Accuracy: {stacking_acc:.4f}\")\n"
      ]
    },
    {
      "cell_type": "markdown",
      "metadata": {
        "id": "w9mGKVjiMp1s"
      },
      "source": [
        "45. Train a Bagging Regressor with different levels of bootstrap samples and compare performance"
      ]
    },
    {
      "cell_type": "code",
      "execution_count": 33,
      "metadata": {
        "colab": {
          "base_uri": "https://localhost:8080/"
        },
        "id": "7hnCY5nZMmw5",
        "outputId": "4390a631-a4cd-4ff6-8072-f8fb4788c7e8"
      },
      "outputs": [
        {
          "name": "stdout",
          "output_type": "stream",
          "text": [
            "Bagging Regressor (Bootstrap=True) MSE: 0.0893\n",
            "Bagging Regressor (Bootstrap=False) MSE: 0.1239\n"
          ]
        }
      ],
      "source": [
        "from sklearn.ensemble import BaggingRegressor\n",
        "from sklearn.metrics import mean_squared_error\n",
        "\n",
        "bootstrap_levels = [True, False]  # True uses bootstrap sampling, False uses the whole dataset\n",
        "\n",
        "for bootstrap in bootstrap_levels:\n",
        "    bagging_reg = BaggingRegressor(estimator=DecisionTreeRegressor(), n_estimators=50, bootstrap=bootstrap, random_state=42)\n",
        "    bagging_reg.fit(X_train, y_train)\n",
        "    y_pred = bagging_reg.predict(X_test)\n",
        "    mse = mean_squared_error(y_test, y_pred)\n",
        "    print(f\"Bagging Regressor (Bootstrap={bootstrap}) MSE: {mse:.4f}\")\n"
      ]
    },
    {
      "cell_type": "code",
      "execution_count": null,
      "metadata": {
        "id": "LaQSlGf7Mt3j"
      },
      "outputs": [],
      "source": []
    }
  ],
  "metadata": {
    "colab": {
      "provenance": []
    },
    "kernelspec": {
      "display_name": "Python 3",
      "name": "python3"
    },
    "language_info": {
      "name": "python"
    }
  },
  "nbformat": 4,
  "nbformat_minor": 0
}
